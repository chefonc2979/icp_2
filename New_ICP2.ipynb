{
  "nbformat": 4,
  "nbformat_minor": 0,
  "metadata": {
    "colab": {
      "name": "Copy of Copy of Copy of Untitled3.ipynb",
      "provenance": []
    },
    "kernelspec": {
      "name": "python3",
      "display_name": "Python 3"
    },
    "language_info": {
      "name": "python"
    }
  },
  "cells": [
    {
      "cell_type": "markdown",
      "metadata": {
        "id": "0iEciJt83JVj"
      },
      "source": [
        "# Course Objective\n",
        "\n",
        "The goal of this course is to provide you with the foundational knowledge necessary to be familiar with the python programming language.Students will build upon the concepts learned in the previous workshop and explore practical application of the Python programming language. .\n",
        "\n",
        "Topics Covered\n",
        "- Loops\n",
        "- Accumulators\n",
        "- Collections\n",
        "- Functions\n",
        "- Classes and Objects"
      ]
    },
    {
      "cell_type": "markdown",
      "metadata": {
        "id": "iuD_TYf_3b8G"
      },
      "source": [
        "#For Loops\n",
        "For loops are used for sequential traversal. For example: traversing a list or string or array etc.\n",
        "\n",
        "# `var = [expression for item in iterable Optional(if condition == True)]:`"
      ]
    },
    {
      "cell_type": "markdown",
      "metadata": {
        "id": "GMaWXlLbckds"
      },
      "source": [
        "Accumulator\n",
        "\n",
        "One common programming “pattern” is to traverse a sequence, accumulating a value as we go, such as the sum-so-far or the maximum-so-far. \n",
        "\n",
        " \n",
        "\n",
        "1.  Initializing an “accumulator” variable to an initial value (such as 0 if accumulating a sum)\n",
        "2.   Iterating (e.g., traversing the items in a sequence)\n",
        "3. Updating the accumulator variable on each iteration (i.e., when processing each item in the sequence)\n",
        "\n",
        "\n",
        "\n",
        "\n",
        "\n",
        "\n",
        "\n",
        "\n",
        "\n",
        "*   +=\n",
        "*   -=\n",
        "\n",
        "\n"
      ]
    },
    {
      "cell_type": "markdown",
      "metadata": {
        "id": "y4Yz5JovCq5v"
      },
      "source": [
        "# While Loops\n",
        "A while loop we can execute a set of statements as long as a condition is true.\n",
        "\n",
        "\n",
        "\n"
      ]
    },
    {
      "cell_type": "markdown",
      "metadata": {
        "id": "grKZcFBNG60K"
      },
      "source": [
        "Write a while loop that adds all the numbers up to 100. Use the following variables. After the completion of the loop, print the out the total.\n",
        "* counter= 0\n",
        "* total= 0"
      ]
    },
    {
      "cell_type": "markdown",
      "metadata": {
        "id": "8TvGvmCjINPc"
      },
      "source": [
        "Write an infinite loop.\n",
        "A inifinte loop never ends. Condition is always true."
      ]
    },
    {
      "cell_type": "markdown",
      "metadata": {
        "id": "3xRdPCly6fPp"
      },
      "source": [
        "#Arrays or Lists\n",
        "\n",
        "Lists are just like dynamic sized arrays, declared in other languages (vector in C++ and ArrayList in Java). Lists need not be homogeneous always which makes it a most powerful tool in Python. A single list may contain DataTypes like Integers, Strings, as well as Objects. Lists are mutable, and hence, they can be altered even after their creation.\n",
        "\n",
        "List in Python are ordered and have a definite count. The elements in a list are indexed according to a definite sequence and the indexing of a list is done with 0 being the first index. Each element in the list has its definite place in the list, which allows duplicating of elements in the list, with each element having its own distinct place and credibility.\n",
        "\n",
        "\n",
        "1.   Ways to create a list\n",
        "* [] and list()\n",
        "2.  How to add items\n",
        "* .append()\n",
        "* .insert(index, value)\n",
        "3. How to remove items\n",
        "* .remove(value)\n",
        "* .pop() w/ index or empty\n",
        "4. How to access items\n",
        "* single indexing []\n",
        "* range indexing []\n",
        "* negative indexing\n",
        "5. Extra methods\n",
        "* .sort()\n",
        "\n"
      ]
    },
    {
      "cell_type": "markdown",
      "metadata": {
        "id": "enC3jmhXbiQ9"
      },
      "source": [
        "List Comprehensions\n",
        "\n",
        "# `[x for x in ___]`"
      ]
    },
    {
      "cell_type": "markdown",
      "metadata": {
        "id": "jiRWyzlb7EwI"
      },
      "source": [
        "#Dictionary\n",
        "\n",
        "Dictionary in Python is an unordered collection of data values, used to store data values like a map, which unlike other Data Types that hold only single value as an element, Dictionary holds key:value pair. Key value is provided in the dictionary to make it more optimized.\n",
        "\n",
        "Note – Keys in a dictionary doesn’t allows Polymorphism.\n",
        "\n",
        "Creating a Dictionary\n",
        "In Python, a Dictionary can be created by placing sequence of elements within curly {} braces, separated by ‘comma’. Dictionary holds a pair of values, one being the Key and the other corresponding pair element being its Key:value. Values in a dictionary can be of any datatype and can be duplicated, whereas keys can’t be repeated and must be immutable.\n",
        "\n",
        "Note – Dictionary keys are case sensitive, same name but different cases of Key will be treated distinctly.\n",
        " \n",
        "\n",
        "\n",
        "1.   Ways to create a dictionary\n",
        "* {} and dict()\n",
        "2.   How to add items\n",
        "* variable_name[key] = value\n",
        "* .update({key: value})\n",
        "3. How to remove items\n",
        "* .pop(key name)\n",
        "* .popitem()\n",
        "4. How to access items\n",
        "* .keys()\n",
        "* .values()\n",
        "* .items\n",
        "5. How to update items\n",
        "* .update({key: value})\n",
        "6. How to iterate through items\n",
        "* for x in\n",
        "* for x, y in"
      ]
    },
    {
      "cell_type": "code",
      "metadata": {
        "id": "w9Wa974CS1kz"
      },
      "source": [
        ""
      ],
      "execution_count": null,
      "outputs": []
    },
    {
      "cell_type": "code",
      "metadata": {
        "id": "YPl_yoybTFpj"
      },
      "source": [
        ""
      ],
      "execution_count": null,
      "outputs": []
    },
    {
      "cell_type": "code",
      "metadata": {
        "id": "bDoPSAndTNdd"
      },
      "source": [
        ""
      ],
      "execution_count": null,
      "outputs": []
    },
    {
      "cell_type": "code",
      "metadata": {
        "id": "tZ09VKr0TZlq"
      },
      "source": [
        ""
      ],
      "execution_count": null,
      "outputs": []
    },
    {
      "cell_type": "code",
      "metadata": {
        "id": "oy2xmvSfTw73"
      },
      "source": [
        ""
      ],
      "execution_count": null,
      "outputs": []
    },
    {
      "cell_type": "code",
      "metadata": {
        "id": "_YFLL9aaT4TU"
      },
      "source": [
        ""
      ],
      "execution_count": null,
      "outputs": []
    },
    {
      "cell_type": "markdown",
      "metadata": {
        "id": "qpeIUQQRdExW"
      },
      "source": [
        "# **Functions**\n",
        "\n",
        "A function in Python is an aggregation of related statements designed to perform a computational, logical, or evaluative task. The idea is to put some commonly or repeatedly done task together and make a function so that instead of writing the same code again and again for different inputs, we can call the function to reuse code contained in it over and over again. \n",
        "\n",
        "Functions can be both built-in or user-defined. It helps the program to be concise, non-repetitive, and organized.\n",
        "\n",
        "Syntax\n",
        "def function_name(parameters):\n",
        "  code body"
      ]
    },
    {
      "cell_type": "markdown",
      "metadata": {
        "id": "ijcBhwV9LJ-v"
      },
      "source": [
        "Define a function that takes in two strings concatenates them and prints out the result."
      ]
    },
    {
      "cell_type": "code",
      "metadata": {
        "id": "Dh4IsWlJQcmY",
        "outputId": "756639c3-f6e6-4f8f-f224-1d4b88b61327",
        "colab": {
          "base_uri": "https://localhost:8080/"
        }
      },
      "source": [
        ""
      ],
      "execution_count": 2,
      "outputs": [
        {
          "output_type": "stream",
          "text": [
            "hello world\n"
          ],
          "name": "stdout"
        }
      ]
    },
    {
      "cell_type": "markdown",
      "metadata": {
        "id": "DcgiM7gfKuFd"
      },
      "source": [
        "Define a function is_even that will take a number x as input. If x is even, then return True. Otherwise, return False."
      ]
    },
    {
      "cell_type": "markdown",
      "metadata": {
        "id": "Rgu73grwJBSh"
      },
      "source": [
        "Words are scored by adding together the point values of each individual letter.Define a function scrabble_score that takes a string word as input and returns the equivalent scrabble score for that word."
      ]
    },
    {
      "cell_type": "code",
      "metadata": {
        "id": "zK81AAGPdL0o"
      },
      "source": [
        "score = {\"a\": 1, \"c\": 3, \"b\": 3, \"e\": 1, \"d\": 2, \"g\": 2,\n",
        "         \"f\": 4, \"i\": 1, \"h\": 4, \"k\": 5, \"j\": 8, \"m\": 3,\n",
        "         \"l\": 1, \"o\": 1, \"n\": 1, \"q\": 10, \"p\": 3, \"s\": 1,\n",
        "         \"r\": 1, \"u\": 1, \"t\": 1, \"w\": 4, \"v\": 4, \"y\": 4,\n",
        "         \"x\": 8, \"z\": 10}"
      ],
      "execution_count": null,
      "outputs": []
    },
    {
      "cell_type": "markdown",
      "metadata": {
        "id": "ZTkESrqUJttF"
      },
      "source": [
        "Write a function remove_duplicates that takes in a list and removes elements of the list that are the same.For example: remove_duplicates([1,1,2,2]) should return [1,2]."
      ]
    },
    {
      "cell_type": "code",
      "metadata": {
        "id": "pXNn7_42db76"
      },
      "source": [
        ""
      ],
      "execution_count": null,
      "outputs": []
    },
    {
      "cell_type": "markdown",
      "metadata": {
        "id": "eeHIiw-b2AMw"
      },
      "source": [
        "# **Classes**\n",
        "\n",
        "A class is a blueprint that defines the variables and the methods (Characteristics) common to all objects of a certain kind.\n",
        "\n",
        "Once initialized it becomes an object or an entity that has a state and behavior associated with it."
      ]
    },
    {
      "cell_type": "markdown",
      "metadata": {
        "id": "l6z_bC8K2gTs"
      },
      "source": [
        "#Create a circle class that is initiliazed with a radius\n",
        "\n",
        "\n",
        "1.   Add a method for calculating the area\n",
        "2.   Add a method for calculation the perimeter\n",
        "\n",
        "Area - Radius ** 2 * 3.14 / \n",
        "Perimeter - 2 * Radius * 3.14"
      ]
    },
    {
      "cell_type": "markdown",
      "metadata": {
        "id": "9iyMlCoK6J9-"
      },
      "source": [
        ""
      ]
    }
  ]
}